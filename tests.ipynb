{
 "cells": [
  {
   "cell_type": "code",
   "execution_count": 3,
   "metadata": {},
   "outputs": [
    {
     "name": "stdout",
     "output_type": "stream",
     "text": [
      "dict_keys(['biological_process', 'molecular_function', 'cellular_component'])\n",
      "dict_keys(['biological_process', 'molecular_function', 'cellular_component'])\n",
      "dict_keys(['molecular_function', 'biological_process', 'cellular_component'])\n",
      "dict_keys(['biological_process', 'molecular_function', 'cellular_component'])\n",
      "dict_keys(['biological_process', 'molecular_function', 'cellular_component'])\n",
      "dict_keys(['biological_process', 'cellular_component', 'molecular_function'])\n"
     ]
    }
   ],
   "source": [
    "goterm = {'homo_sapiens': {'biological_process': {'GO:0000724': {'name: double-strand break repair via homologous recombination, link: https://amigo.geneontology.org/amigo/term/GO:0000724'}, 'GO:0000722': {'name: telomere maintenance via recombination, link: https://amigo.geneontology.org/amigo/term/GO:0000722'}, 'GO:0000730': {'name: DNA recombinase assembly, link: https://amigo.geneontology.org/amigo/term/GO:0000730'}, 'GO:0006281': {'name: DNA repair, link: https://amigo.geneontology.org/amigo/term/GO:0006281'}, 'GO:0006310': {'name: DNA recombination, link: https://amigo.geneontology.org/amigo/term/GO:0006310'}, 'GO:0006312': {'name: mitotic recombination, link: https://amigo.geneontology.org/amigo/term/GO:0006312'}, 'GO:0006974': {'name: DNA damage response, link: https://amigo.geneontology.org/amigo/term/GO:0006974'}, 'GO:0007127': {'name: meiosis I, link: https://amigo.geneontology.org/amigo/term/GO:0007127'}, 'GO:0007131': {'name: reciprocal meiotic recombination, link: https://amigo.geneontology.org/amigo/term/GO:0007131'}, 'GO:0009410': {'name: response to xenobiotic stimulus, link: https://amigo.geneontology.org/amigo/term/GO:0009410'}, 'GO:0009636': {'name: response to toxic substance, link: https://amigo.geneontology.org/amigo/term/GO:0009636'}, 'GO:0010165': {'name: response to X-ray, link: https://amigo.geneontology.org/amigo/term/GO:0010165'}, 'GO:0010569': {'name: regulation of double-strand break repair via homologous recombination, link: https://amigo.geneontology.org/amigo/term/GO:0010569'}, 'GO:0010833': {'name: telomere maintenance via telomere lengthening, link: https://amigo.geneontology.org/amigo/term/GO:0010833'}, 'GO:0014070': {'name: obsolete response to organic cyclic compound, link: https://amigo.geneontology.org/amigo/term/GO:0014070'}, 'GO:0031297': {'name: replication fork processing, link: https://amigo.geneontology.org/amigo/term/GO:0031297'}, 'GO:0032200': {'name: telomere organization, link: https://amigo.geneontology.org/amigo/term/GO:0032200'}, 'GO:0036297': {'name: interstrand cross-link repair, link: https://amigo.geneontology.org/amigo/term/GO:0036297'}, 'GO:0042148': {'name: DNA strand invasion, link: https://amigo.geneontology.org/amigo/term/GO:0042148'}, 'GO:0051321': {'name: meiotic cell cycle, link: https://amigo.geneontology.org/amigo/term/GO:0051321'}, 'GO:0070192': {'name: chromosome organization involved in meiotic cell cycle, link: https://amigo.geneontology.org/amigo/term/GO:0070192'}, 'GO:0071312': {'name: cellular response to alkaloid, link: https://amigo.geneontology.org/amigo/term/GO:0071312'}, 'GO:0071479': {'name: cellular response to ionizing radiation, link: https://amigo.geneontology.org/amigo/term/GO:0071479'}, 'GO:0071480': {'name: cellular response to gamma radiation, link: https://amigo.geneontology.org/amigo/term/GO:0071480'}, 'GO:0072711': {'name: cellular response to hydroxyurea, link: https://amigo.geneontology.org/amigo/term/GO:0072711'}, 'GO:0072719': {'name: cellular response to cisplatin, link: https://amigo.geneontology.org/amigo/term/GO:0072719'}, 'GO:0072757': {'name: cellular response to camptothecin, link: https://amigo.geneontology.org/amigo/term/GO:0072757'}, 'GO:1904631': {'name: response to glucoside, link: https://amigo.geneontology.org/amigo/term/GO:1904631'}, 'GO:1990414': {'name: replication-born double-strand break repair via sister chromatid exchange, link: https://amigo.geneontology.org/amigo/term/GO:1990414'}, 'GO:1990426': {'name: mitotic recombination-dependent replication fork processing, link: https://amigo.geneontology.org/amigo/term/GO:1990426'}, 'GO:1990918': {'name: double-strand break repair involved in meiotic recombination, link: https://amigo.geneontology.org/amigo/term/GO:1990918'}, 'GO:2000001': {'name: regulation of DNA damage checkpoint, link: https://amigo.geneontology.org/amigo/term/GO:2000001'}}, 'molecular_function': {'GO:0000150': {'name: DNA strand exchange activity, link: https://amigo.geneontology.org/amigo/term/GO:0000150'}, 'GO:0003677': {'name: DNA binding, link: https://amigo.geneontology.org/amigo/term/GO:0003677'}, 'GO:0003682': {'name: chromatin binding, link: https://amigo.geneontology.org/amigo/term/GO:0003682'}, 'GO:0003690': {'name: double-stranded DNA binding, link: https://amigo.geneontology.org/amigo/term/GO:0003690'}, 'GO:0003697': {'name: single-stranded DNA binding, link: https://amigo.geneontology.org/amigo/term/GO:0003697'}, 'GO:0005515': {'name: protein binding, link: https://amigo.geneontology.org/amigo/term/GO:0005515'}, 'GO:0005524': {'name: ATP binding, link: https://amigo.geneontology.org/amigo/term/GO:0005524'}, 'GO:0008094': {'name: ATP-dependent activity, acting on DNA, link: https://amigo.geneontology.org/amigo/term/GO:0008094'}, 'GO:0016887': {'name: ATP hydrolysis activity, link: https://amigo.geneontology.org/amigo/term/GO:0016887'}, 'GO:0017116': {'name: single-stranded DNA helicase activity, link: https://amigo.geneontology.org/amigo/term/GO:0017116'}, 'GO:0019899': {'name: enzyme binding, link: https://amigo.geneontology.org/amigo/term/GO:0019899'}, 'GO:0042802': {'name: identical protein binding, link: https://amigo.geneontology.org/amigo/term/GO:0042802'}, 'GO:0070182': {'name: DNA polymerase binding, link: https://amigo.geneontology.org/amigo/term/GO:0070182'}, 'GO:0140664': {'name: ATP-dependent DNA damage sensor activity, link: https://amigo.geneontology.org/amigo/term/GO:0140664'}}, 'cellular_component': {'GO:0000794': {'name: condensed nuclear chromosome, link: https://amigo.geneontology.org/amigo/term/GO:0000794'}, 'GO:0035861': {'name: site of double-strand break, link: https://amigo.geneontology.org/amigo/term/GO:0035861'}, 'GO:0099182': {'name: presynaptic intermediate filament cytoskeleton, link: https://amigo.geneontology.org/amigo/term/GO:0099182'}, 'GO:0000228': {'name: nuclear chromosome, link: https://amigo.geneontology.org/amigo/term/GO:0000228'}, 'GO:0000781': {'name: chromosome, telomeric region, link: https://amigo.geneontology.org/amigo/term/GO:0000781'}, 'GO:0000785': {'name: chromatin, link: https://amigo.geneontology.org/amigo/term/GO:0000785'}, 'GO:0000793': {'name: condensed chromosome, link: https://amigo.geneontology.org/amigo/term/GO:0000793'}, 'GO:0000800': {'name: lateral element, link: https://amigo.geneontology.org/amigo/term/GO:0000800'}, 'GO:0001673': {'name: male germ cell nucleus, link: https://amigo.geneontology.org/amigo/term/GO:0001673'}, 'GO:0005634': {'name: nucleus, link: https://amigo.geneontology.org/amigo/term/GO:0005634'}}}}\n",
    "for a in goterm :\n",
    "    print (goterm[a].keys())"
   ]
  },
  {
   "cell_type": "code",
   "execution_count": 2,
   "metadata": {},
   "outputs": [
    {
     "name": "stdout",
     "output_type": "stream",
     "text": [
      "RAD51\n"
     ]
    }
   ],
   "source": [
    "uniprot = [{'gene_symbol': 'RAD51', 'uniprot_id': 'Q06609', 'uniprot_links': '<a href=\"https://www.uniprot.org/uniprot/Q06609\" target=\"_blank\">Q06609</a>', 'protein_name': 'DNA repair protein RAD51 homolog 1', 'pdb_id': ['1B22', '1N0W', '5H1B', '5H1C', '5JZC', '5NP7', '5NWL', '7C9A', '7EJC', '7EJE', '8BQ2', '8BR2', '8BSC', '8GYK', '8JND', '8JNE', '8JNF', '8PBC', '8PBD', '8R64', '8RCD', '8RCF', '8XBT', '8XBU', '8XBV', '8XBW', '8XBX', '8XBY', '4OUR', '7RZW', '8YB4', '9IUZ', '2M5R', '5ZWS', '5ZWT']}]\n",
    "\n",
    "for a in uniprot :\n",
    "    print (a[\"gene\"])"
   ]
  },
  {
   "cell_type": "code",
   "execution_count": null,
   "metadata": {},
   "outputs": [],
   "source": [
    "ncbi = {'homo_sapiens': {'lien_RNA': ['https://www.ncbi.nlm.nih.gov/nuccore/XM_054378571.1', 'https://www.ncbi.nlm.nih.gov/nuccore/XM_054378570.1', 'https://www.ncbi.nlm.nih.gov/nuccore/XM_054378569.1', 'https://www.ncbi.nlm.nih.gov/nuccore/XM_054378568.1', 'https://www.ncbi.nlm.nih.gov/nuccore/XM_054378567.1', 'https://www.ncbi.nlm.nih.gov/nuccore/XM_054378566.1', 'https://www.ncbi.nlm.nih.gov/nuccore/XM_047432925.1', 'https://www.ncbi.nlm.nih.gov/nuccore/XM_011521861.3', 'https://www.ncbi.nlm.nih.gov/nuccore/XM_011521858.3', 'https://www.ncbi.nlm.nih.gov/nuccore/XM_011521859.3', 'https://www.ncbi.nlm.nih.gov/nuccore/XM_011521860.3', 'https://www.ncbi.nlm.nih.gov/nuccore/XM_011521857.3', 'https://www.ncbi.nlm.nih.gov/nuccore/NM_001164269.2', 'https://www.ncbi.nlm.nih.gov/nuccore/NM_001164270.2', 'https://www.ncbi.nlm.nih.gov/nuccore/NM_133487.4', 'https://www.ncbi.nlm.nih.gov/nuccore/NM_002875.5'], 'lien_prot': ['https://www.ncbi.nlm.nih.gov/protein/XP_054234546.1', 'https://www.ncbi.nlm.nih.gov/protein/XP_054234545.1', 'https://www.ncbi.nlm.nih.gov/protein/XP_054234544.1', 'https://www.ncbi.nlm.nih.gov/protein/XP_054234543.1', 'https://www.ncbi.nlm.nih.gov/protein/XP_054234542.1', 'https://www.ncbi.nlm.nih.gov/protein/XP_054234541.1', 'https://www.ncbi.nlm.nih.gov/protein/XP_047288881.1', 'https://www.ncbi.nlm.nih.gov/protein/XP_011520163.2', 'https://www.ncbi.nlm.nih.gov/protein/XP_011520159.2', 'https://www.ncbi.nlm.nih.gov/protein/XP_011520162.1', 'https://www.ncbi.nlm.nih.gov/protein/XP_011520161.1', 'https://www.ncbi.nlm.nih.gov/protein/XP_011520160.1', 'https://www.ncbi.nlm.nih.gov/protein/NP_001157742.1', 'https://www.ncbi.nlm.nih.gov/protein/NP_001157741.1', 'https://www.ncbi.nlm.nih.gov/protein/NP_597994.3', 'https://www.ncbi.nlm.nih.gov/protein/NP_002866.2'], 'lien_gene': ['https://www.ncbi.nlm.nih.gov/gene/5888']}}\n",
    "\n"
   ]
  }
 ],
 "metadata": {
  "kernelspec": {
   "display_name": "abso",
   "language": "python",
   "name": "python3"
  },
  "language_info": {
   "codemirror_mode": {
    "name": "ipython",
    "version": 3
   },
   "file_extension": ".py",
   "mimetype": "text/x-python",
   "name": "python",
   "nbconvert_exporter": "python",
   "pygments_lexer": "ipython3",
   "version": "3.12.8"
  }
 },
 "nbformat": 4,
 "nbformat_minor": 2
}
