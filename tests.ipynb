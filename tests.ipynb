{
 "cells": [
  {
   "cell_type": "code",
   "execution_count": 13,
   "metadata": {},
   "outputs": [
    {
     "ename": "ValueError",
     "evalue": "not enough values to unpack (expected 2, got 1)",
     "output_type": "error",
     "traceback": [
      "\u001b[0;31m---------------------------------------------------------------------------\u001b[0m",
      "\u001b[0;31mValueError\u001b[0m                                Traceback (most recent call last)",
      "Cell \u001b[0;32mIn[13], line 3\u001b[0m\n\u001b[1;32m      1\u001b[0m goterm \u001b[38;5;241m=\u001b[39m {\u001b[38;5;124m'\u001b[39m\u001b[38;5;124mhomo_sapiens\u001b[39m\u001b[38;5;124m'\u001b[39m: {\u001b[38;5;124m'\u001b[39m\u001b[38;5;124mbiological_process\u001b[39m\u001b[38;5;124m'\u001b[39m: {\u001b[38;5;124m'\u001b[39m\u001b[38;5;124mGO:0000724\u001b[39m\u001b[38;5;124m'\u001b[39m: {\u001b[38;5;124m'\u001b[39m\u001b[38;5;124mname: double-strand break repair via homologous recombination, link: https://amigo.geneontology.org/amigo/term/GO:0000724\u001b[39m\u001b[38;5;124m'\u001b[39m}, \u001b[38;5;124m'\u001b[39m\u001b[38;5;124mGO:0000722\u001b[39m\u001b[38;5;124m'\u001b[39m: {\u001b[38;5;124m'\u001b[39m\u001b[38;5;124mname: telomere maintenance via recombination, link: https://amigo.geneontology.org/amigo/term/GO:0000722\u001b[39m\u001b[38;5;124m'\u001b[39m}, \u001b[38;5;124m'\u001b[39m\u001b[38;5;124mGO:0000730\u001b[39m\u001b[38;5;124m'\u001b[39m: {\u001b[38;5;124m'\u001b[39m\u001b[38;5;124mname: DNA recombinase assembly, link: https://amigo.geneontology.org/amigo/term/GO:0000730\u001b[39m\u001b[38;5;124m'\u001b[39m}, \u001b[38;5;124m'\u001b[39m\u001b[38;5;124mGO:0006281\u001b[39m\u001b[38;5;124m'\u001b[39m: {\u001b[38;5;124m'\u001b[39m\u001b[38;5;124mname: DNA repair, link: https://amigo.geneontology.org/amigo/term/GO:0006281\u001b[39m\u001b[38;5;124m'\u001b[39m}, \u001b[38;5;124m'\u001b[39m\u001b[38;5;124mGO:0006310\u001b[39m\u001b[38;5;124m'\u001b[39m: {\u001b[38;5;124m'\u001b[39m\u001b[38;5;124mname: DNA recombination, link: https://amigo.geneontology.org/amigo/term/GO:0006310\u001b[39m\u001b[38;5;124m'\u001b[39m}, \u001b[38;5;124m'\u001b[39m\u001b[38;5;124mGO:0006312\u001b[39m\u001b[38;5;124m'\u001b[39m: {\u001b[38;5;124m'\u001b[39m\u001b[38;5;124mname: mitotic recombination, link: https://amigo.geneontology.org/amigo/term/GO:0006312\u001b[39m\u001b[38;5;124m'\u001b[39m}, \u001b[38;5;124m'\u001b[39m\u001b[38;5;124mGO:0006974\u001b[39m\u001b[38;5;124m'\u001b[39m: {\u001b[38;5;124m'\u001b[39m\u001b[38;5;124mname: DNA damage response, link: https://amigo.geneontology.org/amigo/term/GO:0006974\u001b[39m\u001b[38;5;124m'\u001b[39m}, \u001b[38;5;124m'\u001b[39m\u001b[38;5;124mGO:0007127\u001b[39m\u001b[38;5;124m'\u001b[39m: {\u001b[38;5;124m'\u001b[39m\u001b[38;5;124mname: meiosis I, link: https://amigo.geneontology.org/amigo/term/GO:0007127\u001b[39m\u001b[38;5;124m'\u001b[39m}, \u001b[38;5;124m'\u001b[39m\u001b[38;5;124mGO:0007131\u001b[39m\u001b[38;5;124m'\u001b[39m: {\u001b[38;5;124m'\u001b[39m\u001b[38;5;124mname: reciprocal meiotic recombination, link: https://amigo.geneontology.org/amigo/term/GO:0007131\u001b[39m\u001b[38;5;124m'\u001b[39m}, \u001b[38;5;124m'\u001b[39m\u001b[38;5;124mGO:0009410\u001b[39m\u001b[38;5;124m'\u001b[39m: {\u001b[38;5;124m'\u001b[39m\u001b[38;5;124mname: response to xenobiotic stimulus, link: https://amigo.geneontology.org/amigo/term/GO:0009410\u001b[39m\u001b[38;5;124m'\u001b[39m}, \u001b[38;5;124m'\u001b[39m\u001b[38;5;124mGO:0009636\u001b[39m\u001b[38;5;124m'\u001b[39m: {\u001b[38;5;124m'\u001b[39m\u001b[38;5;124mname: response to toxic substance, link: https://amigo.geneontology.org/amigo/term/GO:0009636\u001b[39m\u001b[38;5;124m'\u001b[39m}, \u001b[38;5;124m'\u001b[39m\u001b[38;5;124mGO:0010165\u001b[39m\u001b[38;5;124m'\u001b[39m: {\u001b[38;5;124m'\u001b[39m\u001b[38;5;124mname: response to X-ray, link: https://amigo.geneontology.org/amigo/term/GO:0010165\u001b[39m\u001b[38;5;124m'\u001b[39m}, \u001b[38;5;124m'\u001b[39m\u001b[38;5;124mGO:0010569\u001b[39m\u001b[38;5;124m'\u001b[39m: {\u001b[38;5;124m'\u001b[39m\u001b[38;5;124mname: regulation of double-strand break repair via homologous recombination, link: https://amigo.geneontology.org/amigo/term/GO:0010569\u001b[39m\u001b[38;5;124m'\u001b[39m}, \u001b[38;5;124m'\u001b[39m\u001b[38;5;124mGO:0010833\u001b[39m\u001b[38;5;124m'\u001b[39m: {\u001b[38;5;124m'\u001b[39m\u001b[38;5;124mname: telomere maintenance via telomere lengthening, link: https://amigo.geneontology.org/amigo/term/GO:0010833\u001b[39m\u001b[38;5;124m'\u001b[39m}, \u001b[38;5;124m'\u001b[39m\u001b[38;5;124mGO:0014070\u001b[39m\u001b[38;5;124m'\u001b[39m: {\u001b[38;5;124m'\u001b[39m\u001b[38;5;124mname: obsolete response to organic cyclic compound, link: https://amigo.geneontology.org/amigo/term/GO:0014070\u001b[39m\u001b[38;5;124m'\u001b[39m}, \u001b[38;5;124m'\u001b[39m\u001b[38;5;124mGO:0031297\u001b[39m\u001b[38;5;124m'\u001b[39m: {\u001b[38;5;124m'\u001b[39m\u001b[38;5;124mname: replication fork processing, link: https://amigo.geneontology.org/amigo/term/GO:0031297\u001b[39m\u001b[38;5;124m'\u001b[39m}, \u001b[38;5;124m'\u001b[39m\u001b[38;5;124mGO:0032200\u001b[39m\u001b[38;5;124m'\u001b[39m: {\u001b[38;5;124m'\u001b[39m\u001b[38;5;124mname: telomere organization, link: https://amigo.geneontology.org/amigo/term/GO:0032200\u001b[39m\u001b[38;5;124m'\u001b[39m}, \u001b[38;5;124m'\u001b[39m\u001b[38;5;124mGO:0036297\u001b[39m\u001b[38;5;124m'\u001b[39m: {\u001b[38;5;124m'\u001b[39m\u001b[38;5;124mname: interstrand cross-link repair, link: https://amigo.geneontology.org/amigo/term/GO:0036297\u001b[39m\u001b[38;5;124m'\u001b[39m}, \u001b[38;5;124m'\u001b[39m\u001b[38;5;124mGO:0042148\u001b[39m\u001b[38;5;124m'\u001b[39m: {\u001b[38;5;124m'\u001b[39m\u001b[38;5;124mname: DNA strand invasion, link: https://amigo.geneontology.org/amigo/term/GO:0042148\u001b[39m\u001b[38;5;124m'\u001b[39m}, \u001b[38;5;124m'\u001b[39m\u001b[38;5;124mGO:0051321\u001b[39m\u001b[38;5;124m'\u001b[39m: {\u001b[38;5;124m'\u001b[39m\u001b[38;5;124mname: meiotic cell cycle, link: https://amigo.geneontology.org/amigo/term/GO:0051321\u001b[39m\u001b[38;5;124m'\u001b[39m}, \u001b[38;5;124m'\u001b[39m\u001b[38;5;124mGO:0070192\u001b[39m\u001b[38;5;124m'\u001b[39m: {\u001b[38;5;124m'\u001b[39m\u001b[38;5;124mname: chromosome organization involved in meiotic cell cycle, link: https://amigo.geneontology.org/amigo/term/GO:0070192\u001b[39m\u001b[38;5;124m'\u001b[39m}, \u001b[38;5;124m'\u001b[39m\u001b[38;5;124mGO:0071312\u001b[39m\u001b[38;5;124m'\u001b[39m: {\u001b[38;5;124m'\u001b[39m\u001b[38;5;124mname: cellular response to alkaloid, link: https://amigo.geneontology.org/amigo/term/GO:0071312\u001b[39m\u001b[38;5;124m'\u001b[39m}, \u001b[38;5;124m'\u001b[39m\u001b[38;5;124mGO:0071479\u001b[39m\u001b[38;5;124m'\u001b[39m: {\u001b[38;5;124m'\u001b[39m\u001b[38;5;124mname: cellular response to ionizing radiation, link: https://amigo.geneontology.org/amigo/term/GO:0071479\u001b[39m\u001b[38;5;124m'\u001b[39m}, \u001b[38;5;124m'\u001b[39m\u001b[38;5;124mGO:0071480\u001b[39m\u001b[38;5;124m'\u001b[39m: {\u001b[38;5;124m'\u001b[39m\u001b[38;5;124mname: cellular response to gamma radiation, link: https://amigo.geneontology.org/amigo/term/GO:0071480\u001b[39m\u001b[38;5;124m'\u001b[39m}, \u001b[38;5;124m'\u001b[39m\u001b[38;5;124mGO:0072711\u001b[39m\u001b[38;5;124m'\u001b[39m: {\u001b[38;5;124m'\u001b[39m\u001b[38;5;124mname: cellular response to hydroxyurea, link: https://amigo.geneontology.org/amigo/term/GO:0072711\u001b[39m\u001b[38;5;124m'\u001b[39m}, \u001b[38;5;124m'\u001b[39m\u001b[38;5;124mGO:0072719\u001b[39m\u001b[38;5;124m'\u001b[39m: {\u001b[38;5;124m'\u001b[39m\u001b[38;5;124mname: cellular response to cisplatin, link: https://amigo.geneontology.org/amigo/term/GO:0072719\u001b[39m\u001b[38;5;124m'\u001b[39m}, \u001b[38;5;124m'\u001b[39m\u001b[38;5;124mGO:0072757\u001b[39m\u001b[38;5;124m'\u001b[39m: {\u001b[38;5;124m'\u001b[39m\u001b[38;5;124mname: cellular response to camptothecin, link: https://amigo.geneontology.org/amigo/term/GO:0072757\u001b[39m\u001b[38;5;124m'\u001b[39m}, \u001b[38;5;124m'\u001b[39m\u001b[38;5;124mGO:1904631\u001b[39m\u001b[38;5;124m'\u001b[39m: {\u001b[38;5;124m'\u001b[39m\u001b[38;5;124mname: response to glucoside, link: https://amigo.geneontology.org/amigo/term/GO:1904631\u001b[39m\u001b[38;5;124m'\u001b[39m}, \u001b[38;5;124m'\u001b[39m\u001b[38;5;124mGO:1990414\u001b[39m\u001b[38;5;124m'\u001b[39m: {\u001b[38;5;124m'\u001b[39m\u001b[38;5;124mname: replication-born double-strand break repair via sister chromatid exchange, link: https://amigo.geneontology.org/amigo/term/GO:1990414\u001b[39m\u001b[38;5;124m'\u001b[39m}, \u001b[38;5;124m'\u001b[39m\u001b[38;5;124mGO:1990426\u001b[39m\u001b[38;5;124m'\u001b[39m: {\u001b[38;5;124m'\u001b[39m\u001b[38;5;124mname: mitotic recombination-dependent replication fork processing, link: https://amigo.geneontology.org/amigo/term/GO:1990426\u001b[39m\u001b[38;5;124m'\u001b[39m}, \u001b[38;5;124m'\u001b[39m\u001b[38;5;124mGO:1990918\u001b[39m\u001b[38;5;124m'\u001b[39m: {\u001b[38;5;124m'\u001b[39m\u001b[38;5;124mname: double-strand break repair involved in meiotic recombination, link: https://amigo.geneontology.org/amigo/term/GO:1990918\u001b[39m\u001b[38;5;124m'\u001b[39m}, \u001b[38;5;124m'\u001b[39m\u001b[38;5;124mGO:2000001\u001b[39m\u001b[38;5;124m'\u001b[39m: {\u001b[38;5;124m'\u001b[39m\u001b[38;5;124mname: regulation of DNA damage checkpoint, link: https://amigo.geneontology.org/amigo/term/GO:2000001\u001b[39m\u001b[38;5;124m'\u001b[39m}}, \u001b[38;5;124m'\u001b[39m\u001b[38;5;124mmolecular_function\u001b[39m\u001b[38;5;124m'\u001b[39m: {\u001b[38;5;124m'\u001b[39m\u001b[38;5;124mGO:0000150\u001b[39m\u001b[38;5;124m'\u001b[39m: {\u001b[38;5;124m'\u001b[39m\u001b[38;5;124mname: DNA strand exchange activity, link: https://amigo.geneontology.org/amigo/term/GO:0000150\u001b[39m\u001b[38;5;124m'\u001b[39m}, \u001b[38;5;124m'\u001b[39m\u001b[38;5;124mGO:0003677\u001b[39m\u001b[38;5;124m'\u001b[39m: {\u001b[38;5;124m'\u001b[39m\u001b[38;5;124mname: DNA binding, link: https://amigo.geneontology.org/amigo/term/GO:0003677\u001b[39m\u001b[38;5;124m'\u001b[39m}, \u001b[38;5;124m'\u001b[39m\u001b[38;5;124mGO:0003682\u001b[39m\u001b[38;5;124m'\u001b[39m: {\u001b[38;5;124m'\u001b[39m\u001b[38;5;124mname: chromatin binding, link: https://amigo.geneontology.org/amigo/term/GO:0003682\u001b[39m\u001b[38;5;124m'\u001b[39m}, \u001b[38;5;124m'\u001b[39m\u001b[38;5;124mGO:0003690\u001b[39m\u001b[38;5;124m'\u001b[39m: {\u001b[38;5;124m'\u001b[39m\u001b[38;5;124mname: double-stranded DNA binding, link: https://amigo.geneontology.org/amigo/term/GO:0003690\u001b[39m\u001b[38;5;124m'\u001b[39m}, \u001b[38;5;124m'\u001b[39m\u001b[38;5;124mGO:0003697\u001b[39m\u001b[38;5;124m'\u001b[39m: {\u001b[38;5;124m'\u001b[39m\u001b[38;5;124mname: single-stranded DNA binding, link: https://amigo.geneontology.org/amigo/term/GO:0003697\u001b[39m\u001b[38;5;124m'\u001b[39m}, \u001b[38;5;124m'\u001b[39m\u001b[38;5;124mGO:0005515\u001b[39m\u001b[38;5;124m'\u001b[39m: {\u001b[38;5;124m'\u001b[39m\u001b[38;5;124mname: protein binding, link: https://amigo.geneontology.org/amigo/term/GO:0005515\u001b[39m\u001b[38;5;124m'\u001b[39m}, \u001b[38;5;124m'\u001b[39m\u001b[38;5;124mGO:0005524\u001b[39m\u001b[38;5;124m'\u001b[39m: {\u001b[38;5;124m'\u001b[39m\u001b[38;5;124mname: ATP binding, link: https://amigo.geneontology.org/amigo/term/GO:0005524\u001b[39m\u001b[38;5;124m'\u001b[39m}, \u001b[38;5;124m'\u001b[39m\u001b[38;5;124mGO:0008094\u001b[39m\u001b[38;5;124m'\u001b[39m: {\u001b[38;5;124m'\u001b[39m\u001b[38;5;124mname: ATP-dependent activity, acting on DNA, link: https://amigo.geneontology.org/amigo/term/GO:0008094\u001b[39m\u001b[38;5;124m'\u001b[39m}, \u001b[38;5;124m'\u001b[39m\u001b[38;5;124mGO:0016887\u001b[39m\u001b[38;5;124m'\u001b[39m: {\u001b[38;5;124m'\u001b[39m\u001b[38;5;124mname: ATP hydrolysis activity, link: https://amigo.geneontology.org/amigo/term/GO:0016887\u001b[39m\u001b[38;5;124m'\u001b[39m}, \u001b[38;5;124m'\u001b[39m\u001b[38;5;124mGO:0017116\u001b[39m\u001b[38;5;124m'\u001b[39m: {\u001b[38;5;124m'\u001b[39m\u001b[38;5;124mname: single-stranded DNA helicase activity, link: https://amigo.geneontology.org/amigo/term/GO:0017116\u001b[39m\u001b[38;5;124m'\u001b[39m}, \u001b[38;5;124m'\u001b[39m\u001b[38;5;124mGO:0019899\u001b[39m\u001b[38;5;124m'\u001b[39m: {\u001b[38;5;124m'\u001b[39m\u001b[38;5;124mname: enzyme binding, link: https://amigo.geneontology.org/amigo/term/GO:0019899\u001b[39m\u001b[38;5;124m'\u001b[39m}, \u001b[38;5;124m'\u001b[39m\u001b[38;5;124mGO:0042802\u001b[39m\u001b[38;5;124m'\u001b[39m: {\u001b[38;5;124m'\u001b[39m\u001b[38;5;124mname: identical protein binding, link: https://amigo.geneontology.org/amigo/term/GO:0042802\u001b[39m\u001b[38;5;124m'\u001b[39m}, \u001b[38;5;124m'\u001b[39m\u001b[38;5;124mGO:0070182\u001b[39m\u001b[38;5;124m'\u001b[39m: {\u001b[38;5;124m'\u001b[39m\u001b[38;5;124mname: DNA polymerase binding, link: https://amigo.geneontology.org/amigo/term/GO:0070182\u001b[39m\u001b[38;5;124m'\u001b[39m}, \u001b[38;5;124m'\u001b[39m\u001b[38;5;124mGO:0140664\u001b[39m\u001b[38;5;124m'\u001b[39m: {\u001b[38;5;124m'\u001b[39m\u001b[38;5;124mname: ATP-dependent DNA damage sensor activity, link: https://amigo.geneontology.org/amigo/term/GO:0140664\u001b[39m\u001b[38;5;124m'\u001b[39m}}, \u001b[38;5;124m'\u001b[39m\u001b[38;5;124mcellular_component\u001b[39m\u001b[38;5;124m'\u001b[39m: {\u001b[38;5;124m'\u001b[39m\u001b[38;5;124mGO:0000794\u001b[39m\u001b[38;5;124m'\u001b[39m: {\u001b[38;5;124m'\u001b[39m\u001b[38;5;124mname: condensed nuclear chromosome, link: https://amigo.geneontology.org/amigo/term/GO:0000794\u001b[39m\u001b[38;5;124m'\u001b[39m}, \u001b[38;5;124m'\u001b[39m\u001b[38;5;124mGO:0035861\u001b[39m\u001b[38;5;124m'\u001b[39m: {\u001b[38;5;124m'\u001b[39m\u001b[38;5;124mname: site of double-strand break, link: https://amigo.geneontology.org/amigo/term/GO:0035861\u001b[39m\u001b[38;5;124m'\u001b[39m}, \u001b[38;5;124m'\u001b[39m\u001b[38;5;124mGO:0099182\u001b[39m\u001b[38;5;124m'\u001b[39m: {\u001b[38;5;124m'\u001b[39m\u001b[38;5;124mname: presynaptic intermediate filament cytoskeleton, link: https://amigo.geneontology.org/amigo/term/GO:0099182\u001b[39m\u001b[38;5;124m'\u001b[39m}, \u001b[38;5;124m'\u001b[39m\u001b[38;5;124mGO:0000228\u001b[39m\u001b[38;5;124m'\u001b[39m: {\u001b[38;5;124m'\u001b[39m\u001b[38;5;124mname: nuclear chromosome, link: https://amigo.geneontology.org/amigo/term/GO:0000228\u001b[39m\u001b[38;5;124m'\u001b[39m}, \u001b[38;5;124m'\u001b[39m\u001b[38;5;124mGO:0000781\u001b[39m\u001b[38;5;124m'\u001b[39m: {\u001b[38;5;124m'\u001b[39m\u001b[38;5;124mname: chromosome, telomeric region, link: https://amigo.geneontology.org/amigo/term/GO:0000781\u001b[39m\u001b[38;5;124m'\u001b[39m}, \u001b[38;5;124m'\u001b[39m\u001b[38;5;124mGO:0000785\u001b[39m\u001b[38;5;124m'\u001b[39m: {\u001b[38;5;124m'\u001b[39m\u001b[38;5;124mname: chromatin, link: https://amigo.geneontology.org/amigo/term/GO:0000785\u001b[39m\u001b[38;5;124m'\u001b[39m}, \u001b[38;5;124m'\u001b[39m\u001b[38;5;124mGO:0000793\u001b[39m\u001b[38;5;124m'\u001b[39m: {\u001b[38;5;124m'\u001b[39m\u001b[38;5;124mname: condensed chromosome, link: https://amigo.geneontology.org/amigo/term/GO:0000793\u001b[39m\u001b[38;5;124m'\u001b[39m}, \u001b[38;5;124m'\u001b[39m\u001b[38;5;124mGO:0000800\u001b[39m\u001b[38;5;124m'\u001b[39m: {\u001b[38;5;124m'\u001b[39m\u001b[38;5;124mname: lateral element, link: https://amigo.geneontology.org/amigo/term/GO:0000800\u001b[39m\u001b[38;5;124m'\u001b[39m}, \u001b[38;5;124m'\u001b[39m\u001b[38;5;124mGO:0001673\u001b[39m\u001b[38;5;124m'\u001b[39m: {\u001b[38;5;124m'\u001b[39m\u001b[38;5;124mname: male germ cell nucleus, link: https://amigo.geneontology.org/amigo/term/GO:0001673\u001b[39m\u001b[38;5;124m'\u001b[39m}, \u001b[38;5;124m'\u001b[39m\u001b[38;5;124mGO:0005634\u001b[39m\u001b[38;5;124m'\u001b[39m: {\u001b[38;5;124m'\u001b[39m\u001b[38;5;124mname: nucleus, link: https://amigo.geneontology.org/amigo/term/GO:0005634\u001b[39m\u001b[38;5;124m'\u001b[39m}}}}\n\u001b[1;32m      2\u001b[0m \u001b[38;5;28;01mfor\u001b[39;00m a \u001b[38;5;129;01min\u001b[39;00m goterm[\u001b[38;5;124m'\u001b[39m\u001b[38;5;124mhomo_sapiens\u001b[39m\u001b[38;5;124m'\u001b[39m] :\n\u001b[0;32m----> 3\u001b[0m     \u001b[38;5;28;01mfor\u001b[39;00m key, values \u001b[38;5;129;01min\u001b[39;00m a :\n\u001b[1;32m      4\u001b[0m         \u001b[38;5;28mprint\u001b[39m (key)\n",
      "\u001b[0;31mValueError\u001b[0m: not enough values to unpack (expected 2, got 1)"
     ]
    }
   ],
   "source": [
    "goterm = {'homo_sapiens': {'biological_process': {'GO:0000724': {'name: double-strand break repair via homologous recombination, link: https://amigo.geneontology.org/amigo/term/GO:0000724'}, 'GO:0000722': {'name: telomere maintenance via recombination, link: https://amigo.geneontology.org/amigo/term/GO:0000722'}, 'GO:0000730': {'name: DNA recombinase assembly, link: https://amigo.geneontology.org/amigo/term/GO:0000730'}, 'GO:0006281': {'name: DNA repair, link: https://amigo.geneontology.org/amigo/term/GO:0006281'}, 'GO:0006310': {'name: DNA recombination, link: https://amigo.geneontology.org/amigo/term/GO:0006310'}, 'GO:0006312': {'name: mitotic recombination, link: https://amigo.geneontology.org/amigo/term/GO:0006312'}, 'GO:0006974': {'name: DNA damage response, link: https://amigo.geneontology.org/amigo/term/GO:0006974'}, 'GO:0007127': {'name: meiosis I, link: https://amigo.geneontology.org/amigo/term/GO:0007127'}, 'GO:0007131': {'name: reciprocal meiotic recombination, link: https://amigo.geneontology.org/amigo/term/GO:0007131'}, 'GO:0009410': {'name: response to xenobiotic stimulus, link: https://amigo.geneontology.org/amigo/term/GO:0009410'}, 'GO:0009636': {'name: response to toxic substance, link: https://amigo.geneontology.org/amigo/term/GO:0009636'}, 'GO:0010165': {'name: response to X-ray, link: https://amigo.geneontology.org/amigo/term/GO:0010165'}, 'GO:0010569': {'name: regulation of double-strand break repair via homologous recombination, link: https://amigo.geneontology.org/amigo/term/GO:0010569'}, 'GO:0010833': {'name: telomere maintenance via telomere lengthening, link: https://amigo.geneontology.org/amigo/term/GO:0010833'}, 'GO:0014070': {'name: obsolete response to organic cyclic compound, link: https://amigo.geneontology.org/amigo/term/GO:0014070'}, 'GO:0031297': {'name: replication fork processing, link: https://amigo.geneontology.org/amigo/term/GO:0031297'}, 'GO:0032200': {'name: telomere organization, link: https://amigo.geneontology.org/amigo/term/GO:0032200'}, 'GO:0036297': {'name: interstrand cross-link repair, link: https://amigo.geneontology.org/amigo/term/GO:0036297'}, 'GO:0042148': {'name: DNA strand invasion, link: https://amigo.geneontology.org/amigo/term/GO:0042148'}, 'GO:0051321': {'name: meiotic cell cycle, link: https://amigo.geneontology.org/amigo/term/GO:0051321'}, 'GO:0070192': {'name: chromosome organization involved in meiotic cell cycle, link: https://amigo.geneontology.org/amigo/term/GO:0070192'}, 'GO:0071312': {'name: cellular response to alkaloid, link: https://amigo.geneontology.org/amigo/term/GO:0071312'}, 'GO:0071479': {'name: cellular response to ionizing radiation, link: https://amigo.geneontology.org/amigo/term/GO:0071479'}, 'GO:0071480': {'name: cellular response to gamma radiation, link: https://amigo.geneontology.org/amigo/term/GO:0071480'}, 'GO:0072711': {'name: cellular response to hydroxyurea, link: https://amigo.geneontology.org/amigo/term/GO:0072711'}, 'GO:0072719': {'name: cellular response to cisplatin, link: https://amigo.geneontology.org/amigo/term/GO:0072719'}, 'GO:0072757': {'name: cellular response to camptothecin, link: https://amigo.geneontology.org/amigo/term/GO:0072757'}, 'GO:1904631': {'name: response to glucoside, link: https://amigo.geneontology.org/amigo/term/GO:1904631'}, 'GO:1990414': {'name: replication-born double-strand break repair via sister chromatid exchange, link: https://amigo.geneontology.org/amigo/term/GO:1990414'}, 'GO:1990426': {'name: mitotic recombination-dependent replication fork processing, link: https://amigo.geneontology.org/amigo/term/GO:1990426'}, 'GO:1990918': {'name: double-strand break repair involved in meiotic recombination, link: https://amigo.geneontology.org/amigo/term/GO:1990918'}, 'GO:2000001': {'name: regulation of DNA damage checkpoint, link: https://amigo.geneontology.org/amigo/term/GO:2000001'}}, 'molecular_function': {'GO:0000150': {'name: DNA strand exchange activity, link: https://amigo.geneontology.org/amigo/term/GO:0000150'}, 'GO:0003677': {'name: DNA binding, link: https://amigo.geneontology.org/amigo/term/GO:0003677'}, 'GO:0003682': {'name: chromatin binding, link: https://amigo.geneontology.org/amigo/term/GO:0003682'}, 'GO:0003690': {'name: double-stranded DNA binding, link: https://amigo.geneontology.org/amigo/term/GO:0003690'}, 'GO:0003697': {'name: single-stranded DNA binding, link: https://amigo.geneontology.org/amigo/term/GO:0003697'}, 'GO:0005515': {'name: protein binding, link: https://amigo.geneontology.org/amigo/term/GO:0005515'}, 'GO:0005524': {'name: ATP binding, link: https://amigo.geneontology.org/amigo/term/GO:0005524'}, 'GO:0008094': {'name: ATP-dependent activity, acting on DNA, link: https://amigo.geneontology.org/amigo/term/GO:0008094'}, 'GO:0016887': {'name: ATP hydrolysis activity, link: https://amigo.geneontology.org/amigo/term/GO:0016887'}, 'GO:0017116': {'name: single-stranded DNA helicase activity, link: https://amigo.geneontology.org/amigo/term/GO:0017116'}, 'GO:0019899': {'name: enzyme binding, link: https://amigo.geneontology.org/amigo/term/GO:0019899'}, 'GO:0042802': {'name: identical protein binding, link: https://amigo.geneontology.org/amigo/term/GO:0042802'}, 'GO:0070182': {'name: DNA polymerase binding, link: https://amigo.geneontology.org/amigo/term/GO:0070182'}, 'GO:0140664': {'name: ATP-dependent DNA damage sensor activity, link: https://amigo.geneontology.org/amigo/term/GO:0140664'}}, 'cellular_component': {'GO:0000794': {'name: condensed nuclear chromosome, link: https://amigo.geneontology.org/amigo/term/GO:0000794'}, 'GO:0035861': {'name: site of double-strand break, link: https://amigo.geneontology.org/amigo/term/GO:0035861'}, 'GO:0099182': {'name: presynaptic intermediate filament cytoskeleton, link: https://amigo.geneontology.org/amigo/term/GO:0099182'}, 'GO:0000228': {'name: nuclear chromosome, link: https://amigo.geneontology.org/amigo/term/GO:0000228'}, 'GO:0000781': {'name: chromosome, telomeric region, link: https://amigo.geneontology.org/amigo/term/GO:0000781'}, 'GO:0000785': {'name: chromatin, link: https://amigo.geneontology.org/amigo/term/GO:0000785'}, 'GO:0000793': {'name: condensed chromosome, link: https://amigo.geneontology.org/amigo/term/GO:0000793'}, 'GO:0000800': {'name: lateral element, link: https://amigo.geneontology.org/amigo/term/GO:0000800'}, 'GO:0001673': {'name: male germ cell nucleus, link: https://amigo.geneontology.org/amigo/term/GO:0001673'}, 'GO:0005634': {'name: nucleus, link: https://amigo.geneontology.org/amigo/term/GO:0005634'}}}}\n",
    "for a in goterm['homo_sapiens'] :\n",
    "    for key, values in a :\n",
    "        print (key)"
   ]
  },
  {
   "cell_type": "code",
   "execution_count": 12,
   "metadata": {},
   "outputs": [
    {
     "data": {
      "text/plain": [
       "'1B221N0W5H1B5H1C5JZC5NP75NWL7C9A7EJC7EJE8BQ28BR28BSC8GYK8JND8JNE8JNF8PBC8PBD8R648RCD8RCF8XBT8XBU8XBV8XBW8XBX8XBY4OUR7RZW8YB49IUZ2M5R5ZWS5ZWT'"
      ]
     },
     "execution_count": 12,
     "metadata": {},
     "output_type": "execute_result"
    }
   ],
   "source": [
    "uniprot = [{'gene_symbol': 'RAD51', 'uniprot_id': 'Q06609', 'uniprot_links': '<a href=\"https://www.uniprot.org/uniprot/Q06609\" target=\"_blank\">Q06609</a>', 'protein_name': 'DNA repair protein RAD51 homolog 1', 'pdb_id': ['1B22', '1N0W', '5H1B', '5H1C', '5JZC', '5NP7', '5NWL', '7C9A', '7EJC', '7EJE', '8BQ2', '8BR2', '8BSC', '8GYK', '8JND', '8JNE', '8JNF', '8PBC', '8PBD', '8R64', '8RCD', '8RCF', '8XBT', '8XBU', '8XBV', '8XBW', '8XBX', '8XBY', '4OUR', '7RZW', '8YB4', '9IUZ', '2M5R', '5ZWS', '5ZWT']}]\n",
    "\n",
    "\"\".join(uniprot[0][\"pdb_id\"])"
   ]
  },
  {
   "cell_type": "code",
   "execution_count": null,
   "metadata": {},
   "outputs": [],
   "source": [
    "ncbi = {'homo_sapiens': {'lien_RNA': ['https://www.ncbi.nlm.nih.gov/nuccore/XM_054378571.1', 'https://www.ncbi.nlm.nih.gov/nuccore/XM_054378570.1', 'https://www.ncbi.nlm.nih.gov/nuccore/XM_054378569.1', 'https://www.ncbi.nlm.nih.gov/nuccore/XM_054378568.1', 'https://www.ncbi.nlm.nih.gov/nuccore/XM_054378567.1', 'https://www.ncbi.nlm.nih.gov/nuccore/XM_054378566.1', 'https://www.ncbi.nlm.nih.gov/nuccore/XM_047432925.1', 'https://www.ncbi.nlm.nih.gov/nuccore/XM_011521861.3', 'https://www.ncbi.nlm.nih.gov/nuccore/XM_011521858.3', 'https://www.ncbi.nlm.nih.gov/nuccore/XM_011521859.3', 'https://www.ncbi.nlm.nih.gov/nuccore/XM_011521860.3', 'https://www.ncbi.nlm.nih.gov/nuccore/XM_011521857.3', 'https://www.ncbi.nlm.nih.gov/nuccore/NM_001164269.2', 'https://www.ncbi.nlm.nih.gov/nuccore/NM_001164270.2', 'https://www.ncbi.nlm.nih.gov/nuccore/NM_133487.4', 'https://www.ncbi.nlm.nih.gov/nuccore/NM_002875.5'], 'lien_prot': ['https://www.ncbi.nlm.nih.gov/protein/XP_054234546.1', 'https://www.ncbi.nlm.nih.gov/protein/XP_054234545.1', 'https://www.ncbi.nlm.nih.gov/protein/XP_054234544.1', 'https://www.ncbi.nlm.nih.gov/protein/XP_054234543.1', 'https://www.ncbi.nlm.nih.gov/protein/XP_054234542.1', 'https://www.ncbi.nlm.nih.gov/protein/XP_054234541.1', 'https://www.ncbi.nlm.nih.gov/protein/XP_047288881.1', 'https://www.ncbi.nlm.nih.gov/protein/XP_011520163.2', 'https://www.ncbi.nlm.nih.gov/protein/XP_011520159.2', 'https://www.ncbi.nlm.nih.gov/protein/XP_011520162.1', 'https://www.ncbi.nlm.nih.gov/protein/XP_011520161.1', 'https://www.ncbi.nlm.nih.gov/protein/XP_011520160.1', 'https://www.ncbi.nlm.nih.gov/protein/NP_001157742.1', 'https://www.ncbi.nlm.nih.gov/protein/NP_001157741.1', 'https://www.ncbi.nlm.nih.gov/protein/NP_597994.3', 'https://www.ncbi.nlm.nih.gov/protein/NP_002866.2'], 'lien_gene': ['https://www.ncbi.nlm.nih.gov/gene/5888']}}\n",
    "\n"
   ]
  },
  {
   "cell_type": "code",
   "execution_count": 3,
   "metadata": {},
   "outputs": [
    {
     "data": {
      "text/plain": [
       "{'homo_sapiens': 'RAD51',\n",
       " 'arabidopsis_thaliana': 'PHYB',\n",
       " 'saccharomyces_cerevisiae': 'SFA1',\n",
       " 'Leishmania_major': 'ACP',\n",
       " 'escherichia_coli': 'HYBE',\n",
       " 'mus_musculus': 'DMD',\n",
       " 'Drosophila_melanogaster': 'DPP'}"
      ]
     },
     "execution_count": 3,
     "metadata": {},
     "output_type": "execute_result"
    }
   ],
   "source": [
    "import NCBI\n",
    "NCBI.GeneSymbol(\"GeneSymbols_45.txt\")"
   ]
  },
  {
   "cell_type": "code",
   "execution_count": 5,
   "metadata": {},
   "outputs": [
    {
     "data": {
      "text/plain": [
       "{'homo_sapiens': 'RAD51',\n",
       " 'arabidopsis_thaliana': 'PHYB',\n",
       " 'saccharomyces_cerevisiae': 'SFA1',\n",
       " 'Leishmania_major': 'ACP',\n",
       " 'escherichia_coli_gca_006381815': 'HYBE',\n",
       " 'mus_musculus': 'DMD',\n",
       " 'Drosophila_melanogaster': 'DPP'}"
      ]
     },
     "execution_count": 5,
     "metadata": {},
     "output_type": "execute_result"
    }
   ],
   "source": [
    "import GO_term\n",
    "GO_term.GeneSymbol(\"GeneSymbols_45.txt\")"
   ]
  },
  {
   "cell_type": "code",
   "execution_count": 1,
   "metadata": {},
   "outputs": [
    {
     "name": "stdout",
     "output_type": "stream",
     "text": [
      "{'species': 'homo_sapiens', 'gene_symbol': 'RAD51', 'uniprot_id': 'Q06609', 'uniprot_links': '<br>\\n\\t\\t\\t\\t\\t<a href=\"https://www.uniprot.org/uniprot/Q06609\" target=\"_blank\">Q06609</a>', 'protein_name': 'DNA repair protein RAD51 homolog 1', 'pdb_id': ['1B22', '1N0W', '5H1B', '5H1C', '5JZC', '5NP7', '5NWL', '7C9A', '7EJC', '7EJE', '8BQ2', '8BR2', '8BSC', '8GYK', '8JND', '8JNE', '8JNF', '8PBC', '8PBD', '8R64', '8RCD', '8RCF', '8XBT', '8XBU', '8XBV', '8XBW', '8XBX', '8XBY'], 'pdb_links': ['<br>\\n\\t\\t\\t\\t\\t<a href=\"https://www.rcsb.org/structure/1B22\" target=\"_blank\">1B22</a>', '<br>\\n\\t\\t\\t\\t\\t<a href=\"https://www.rcsb.org/structure/1N0W\" target=\"_blank\">1N0W</a>', '<br>\\n\\t\\t\\t\\t\\t<a href=\"https://www.rcsb.org/structure/5H1B\" target=\"_blank\">5H1B</a>', '<br>\\n\\t\\t\\t\\t\\t<a href=\"https://www.rcsb.org/structure/5H1C\" target=\"_blank\">5H1C</a>', '<br>\\n\\t\\t\\t\\t\\t<a href=\"https://www.rcsb.org/structure/5JZC\" target=\"_blank\">5JZC</a>', '<br>\\n\\t\\t\\t\\t\\t<a href=\"https://www.rcsb.org/structure/5NP7\" target=\"_blank\">5NP7</a>', '<br>\\n\\t\\t\\t\\t\\t<a href=\"https://www.rcsb.org/structure/5NWL\" target=\"_blank\">5NWL</a>', '<br>\\n\\t\\t\\t\\t\\t<a href=\"https://www.rcsb.org/structure/7C9A\" target=\"_blank\">7C9A</a>', '<br>\\n\\t\\t\\t\\t\\t<a href=\"https://www.rcsb.org/structure/7EJC\" target=\"_blank\">7EJC</a>', '<br>\\n\\t\\t\\t\\t\\t<a href=\"https://www.rcsb.org/structure/7EJE\" target=\"_blank\">7EJE</a>', '<br>\\n\\t\\t\\t\\t\\t<a href=\"https://www.rcsb.org/structure/8BQ2\" target=\"_blank\">8BQ2</a>', '<br>\\n\\t\\t\\t\\t\\t<a href=\"https://www.rcsb.org/structure/8BR2\" target=\"_blank\">8BR2</a>', '<br>\\n\\t\\t\\t\\t\\t<a href=\"https://www.rcsb.org/structure/8BSC\" target=\"_blank\">8BSC</a>', '<br>\\n\\t\\t\\t\\t\\t<a href=\"https://www.rcsb.org/structure/8GYK\" target=\"_blank\">8GYK</a>', '<br>\\n\\t\\t\\t\\t\\t<a href=\"https://www.rcsb.org/structure/8JND\" target=\"_blank\">8JND</a>', '<br>\\n\\t\\t\\t\\t\\t<a href=\"https://www.rcsb.org/structure/8JNE\" target=\"_blank\">8JNE</a>', '<br>\\n\\t\\t\\t\\t\\t<a href=\"https://www.rcsb.org/structure/8JNF\" target=\"_blank\">8JNF</a>', '<br>\\n\\t\\t\\t\\t\\t<a href=\"https://www.rcsb.org/structure/8PBC\" target=\"_blank\">8PBC</a>', '<br>\\n\\t\\t\\t\\t\\t<a href=\"https://www.rcsb.org/structure/8PBD\" target=\"_blank\">8PBD</a>', '<br>\\n\\t\\t\\t\\t\\t<a href=\"https://www.rcsb.org/structure/8R64\" target=\"_blank\">8R64</a>', '<br>\\n\\t\\t\\t\\t\\t<a href=\"https://www.rcsb.org/structure/8RCD\" target=\"_blank\">8RCD</a>', '<br>\\n\\t\\t\\t\\t\\t<a href=\"https://www.rcsb.org/structure/8RCF\" target=\"_blank\">8RCF</a>', '<br>\\n\\t\\t\\t\\t\\t<a href=\"https://www.rcsb.org/structure/8XBT\" target=\"_blank\">8XBT</a>', '<br>\\n\\t\\t\\t\\t\\t<a href=\"https://www.rcsb.org/structure/8XBU\" target=\"_blank\">8XBU</a>', '<br>\\n\\t\\t\\t\\t\\t<a href=\"https://www.rcsb.org/structure/8XBV\" target=\"_blank\">8XBV</a>', '<br>\\n\\t\\t\\t\\t\\t<a href=\"https://www.rcsb.org/structure/8XBW\" target=\"_blank\">8XBW</a>', '<br>\\n\\t\\t\\t\\t\\t<a href=\"https://www.rcsb.org/structure/8XBX\" target=\"_blank\">8XBX</a>', '<br>\\n\\t\\t\\t\\t\\t<a href=\"https://www.rcsb.org/structure/8XBY\" target=\"_blank\">8XBY</a>']}\n",
      "{'species': 'arabidopsis_thaliana', 'gene_symbol': 'PHYB', 'uniprot_id': 'P14713', 'uniprot_links': '<br>\\n\\t\\t\\t\\t\\t<a href=\"https://www.uniprot.org/uniprot/P14713\" target=\"_blank\">P14713</a>', 'protein_name': 'Phytochrome B', 'pdb_id': ['4OUR', '7RZW', '8YB4', '9IUZ'], 'pdb_links': ['<br>\\n\\t\\t\\t\\t\\t<a href=\"https://www.rcsb.org/structure/4OUR\" target=\"_blank\">4OUR</a>', '<br>\\n\\t\\t\\t\\t\\t<a href=\"https://www.rcsb.org/structure/7RZW\" target=\"_blank\">7RZW</a>', '<br>\\n\\t\\t\\t\\t\\t<a href=\"https://www.rcsb.org/structure/8YB4\" target=\"_blank\">8YB4</a>', '<br>\\n\\t\\t\\t\\t\\t<a href=\"https://www.rcsb.org/structure/9IUZ\" target=\"_blank\">9IUZ</a>']}\n",
      "{'species': 'saccharomyces_cerevisiae', 'gene_symbol': 'SFA1', 'uniprot_id': 'P32771', 'uniprot_links': '<br>\\n\\t\\t\\t\\t\\t<a href=\"https://www.uniprot.org/uniprot/P32771\" target=\"_blank\">P32771</a>', 'protein_name': 'S-(hydroxymethyl)glutathione dehydrogenase', 'pdb_id': [], 'pdb_links': []}\n",
      "{'species': 'Leishmania_major', 'gene_symbol': 'ACP', 'uniprot_id': 'E9AD06', 'uniprot_links': '<br>\\n\\t\\t\\t\\t\\t<a href=\"https://www.uniprot.org/uniprot/E9AD06\" target=\"_blank\">E9AD06</a>', 'protein_name': 'Acyl carrier protein', 'pdb_id': ['2M5R', '5ZWS', '5ZWT'], 'pdb_links': ['<br>\\n\\t\\t\\t\\t\\t<a href=\"https://www.rcsb.org/structure/2M5R\" target=\"_blank\">2M5R</a>', '<br>\\n\\t\\t\\t\\t\\t<a href=\"https://www.rcsb.org/structure/5ZWS\" target=\"_blank\">5ZWS</a>', '<br>\\n\\t\\t\\t\\t\\t<a href=\"https://www.rcsb.org/structure/5ZWT\" target=\"_blank\">5ZWT</a>']}\n"
     ]
    },
    {
     "ename": "UnboundLocalError",
     "evalue": "cannot access local variable 'dico_uniprot_entry' where it is not associated with a value",
     "output_type": "error",
     "traceback": [
      "\u001b[0;31m---------------------------------------------------------------------------\u001b[0m",
      "\u001b[0;31mUnboundLocalError\u001b[0m                         Traceback (most recent call last)",
      "Cell \u001b[0;32mIn[1], line 14\u001b[0m\n\u001b[1;32m     12\u001b[0m species_info[\u001b[38;5;124m\"\u001b[39m\u001b[38;5;124mspecies\u001b[39m\u001b[38;5;124m\"\u001b[39m] \u001b[38;5;241m=\u001b[39m current_species\n\u001b[1;32m     13\u001b[0m species_info[\u001b[38;5;124m\"\u001b[39m\u001b[38;5;124mgene_symbol\u001b[39m\u001b[38;5;124m\"\u001b[39m] \u001b[38;5;241m=\u001b[39m symbol\n\u001b[0;32m---> 14\u001b[0m \u001b[38;5;28mprint\u001b[39m(\u001b[43muniprotKB\u001b[49m\u001b[38;5;241;43m.\u001b[39;49m\u001b[43mextraire_info_uniprot\u001b[49m\u001b[43m(\u001b[49m\u001b[43mspecies_info\u001b[49m\u001b[43m)\u001b[49m)\n",
      "File \u001b[0;32m~/Bureau/Rouen_M1/S2/Analyse bioinfo en sciences omiques 2/projet_API/uniprotKB.py:69\u001b[0m, in \u001b[0;36mextraire_info_uniprot\u001b[0;34m(dico_espece_gene)\u001b[0m\n\u001b[1;32m     66\u001b[0m         \u001b[38;5;28;01mfor\u001b[39;00m pdb_entry \u001b[38;5;129;01min\u001b[39;00m pdb_entries :\n\u001b[1;32m     67\u001b[0m             dico_uniprot_entry[\u001b[38;5;124m\"\u001b[39m\u001b[38;5;124mpdb_links\u001b[39m\u001b[38;5;124m\"\u001b[39m]\u001b[38;5;241m.\u001b[39mappend(\u001b[38;5;124mf\u001b[39m\u001b[38;5;124m'\u001b[39m\u001b[38;5;124m<br>\u001b[39m\u001b[38;5;130;01m\\n\u001b[39;00m\u001b[38;5;130;01m\\t\u001b[39;00m\u001b[38;5;130;01m\\t\u001b[39;00m\u001b[38;5;130;01m\\t\u001b[39;00m\u001b[38;5;130;01m\\t\u001b[39;00m\u001b[38;5;130;01m\\t\u001b[39;00m\u001b[38;5;124m<a href=\u001b[39m\u001b[38;5;124m\"\u001b[39m\u001b[38;5;124mhttps://www.rcsb.org/structure/\u001b[39m\u001b[38;5;132;01m{\u001b[39;00mpdb_entry\u001b[38;5;132;01m}\u001b[39;00m\u001b[38;5;124m\"\u001b[39m\u001b[38;5;124m target=\u001b[39m\u001b[38;5;124m\"\u001b[39m\u001b[38;5;124m_blank\u001b[39m\u001b[38;5;124m\"\u001b[39m\u001b[38;5;124m>\u001b[39m\u001b[38;5;132;01m{\u001b[39;00mpdb_entry\u001b[38;5;132;01m}\u001b[39;00m\u001b[38;5;124m</a>\u001b[39m\u001b[38;5;124m'\u001b[39m )\n\u001b[0;32m---> 69\u001b[0m \u001b[38;5;28;01mreturn\u001b[39;00m \u001b[43mdico_uniprot_entry\u001b[49m\n",
      "\u001b[0;31mUnboundLocalError\u001b[0m: cannot access local variable 'dico_uniprot_entry' where it is not associated with a value"
     ]
    }
   ],
   "source": [
    "import requests\n",
    "import GO_term\n",
    "import uniprotKB\n",
    "\n",
    "with open(\"GeneSymbols_45.txt\", \"r\") as infos:\n",
    "    for line in infos:        \n",
    "        current_species = line[:-1].split(\",\")[1]\n",
    "        symbol = line.split(\",\")[0]\n",
    "\n",
    "        # Dictionnaire initial à passer en argument aux sous-scripts\n",
    "        species_info = {}\n",
    "        species_info[\"species\"] = current_species\n",
    "        species_info[\"gene_symbol\"] = symbol\n",
    "        print(uniprotKB.extraire_info_uniprot(species_info))\n",
    "\n",
    "\n",
    "\n"
   ]
  },
  {
   "cell_type": "code",
   "execution_count": 4,
   "metadata": {},
   "outputs": [
    {
     "data": {
      "text/plain": [
       "{'GO:0000724': {'double-strand break repair via homologous recombination'},\n",
       " 'GO:0000722': {'telomere maintenance via recombination'},\n",
       " 'GO:0000730': {'DNA recombinase assembly'},\n",
       " 'GO:0006281': {'DNA repair'},\n",
       " 'GO:0006310': {'DNA recombination'},\n",
       " 'GO:0006312': {'mitotic recombination'},\n",
       " 'GO:0006974': {'DNA damage response'},\n",
       " 'GO:0007127': {'meiosis I'},\n",
       " 'GO:0007131': {'reciprocal meiotic recombination'},\n",
       " 'GO:0009410': {'response to xenobiotic stimulus'},\n",
       " 'GO:0009636': {'response to toxic substance'},\n",
       " 'GO:0010165': {'response to X-ray'},\n",
       " 'GO:0010569': {'regulation of double-strand break repair via homologous recombination'},\n",
       " 'GO:0010833': {'telomere maintenance via telomere lengthening'},\n",
       " 'GO:0014070': {'obsolete response to organic cyclic compound'},\n",
       " 'GO:0031297': {'replication fork processing'},\n",
       " 'GO:0032200': {'telomere organization'},\n",
       " 'GO:0036297': {'interstrand cross-link repair'},\n",
       " 'GO:0042148': {'DNA strand invasion'},\n",
       " 'GO:0051321': {'meiotic cell cycle'},\n",
       " 'GO:0070192': {'chromosome organization involved in meiotic cell cycle'},\n",
       " 'GO:0071312': {'cellular response to alkaloid'},\n",
       " 'GO:0071479': {'cellular response to ionizing radiation'},\n",
       " 'GO:0071480': {'cellular response to gamma radiation'},\n",
       " 'GO:0072711': {'cellular response to hydroxyurea'},\n",
       " 'GO:0072719': {'cellular response to cisplatin'},\n",
       " 'GO:0072757': {'cellular response to camptothecin'},\n",
       " 'GO:1904631': {'response to glucoside'},\n",
       " 'GO:1990414': {'replication-born double-strand break repair via sister chromatid exchange'},\n",
       " 'GO:1990426': {'mitotic recombination-dependent replication fork processing'},\n",
       " 'GO:1990918': {'double-strand break repair involved in meiotic recombination'},\n",
       " 'GO:2000001': {'regulation of DNA damage checkpoint'}}"
      ]
     },
     "execution_count": 4,
     "metadata": {},
     "output_type": "execute_result"
    }
   ],
   "source": [
    "test ={'species': 'homo_sapiens', 'gene_symbol': 'RAD51', 'UniprotID': 'Q06609', 'GO': {'biological_process': {'GO:0000724': {'double-strand break repair via homologous recombination'}, 'GO:0000722': {'telomere maintenance via recombination'}, 'GO:0000730': {'DNA recombinase assembly'}, 'GO:0006281': {'DNA repair'}, 'GO:0006310': {'DNA recombination'}, 'GO:0006312': {'mitotic recombination'}, 'GO:0006974': {'DNA damage response'}, 'GO:0007127': {'meiosis I'}, 'GO:0007131': {'reciprocal meiotic recombination'}, 'GO:0009410': {'response to xenobiotic stimulus'}, 'GO:0009636': {'response to toxic substance'}, 'GO:0010165': {'response to X-ray'}, 'GO:0010569': {'regulation of double-strand break repair via homologous recombination'}, 'GO:0010833': {'telomere maintenance via telomere lengthening'}, 'GO:0014070': {'obsolete response to organic cyclic compound'}, 'GO:0031297': {'replication fork processing'}, 'GO:0032200': {'telomere organization'}, 'GO:0036297': {'interstrand cross-link repair'}, 'GO:0042148': {'DNA strand invasion'}, 'GO:0051321': {'meiotic cell cycle'}, 'GO:0070192': {'chromosome organization involved in meiotic cell cycle'}, 'GO:0071312': {'cellular response to alkaloid'}, 'GO:0071479': {'cellular response to ionizing radiation'}, 'GO:0071480': {'cellular response to gamma radiation'}, 'GO:0072711': {'cellular response to hydroxyurea'}, 'GO:0072719': {'cellular response to cisplatin'}, 'GO:0072757': {'cellular response to camptothecin'}, 'GO:1904631': {'response to glucoside'}, 'GO:1990414': {'replication-born double-strand break repair via sister chromatid exchange'}, 'GO:1990426': {'mitotic recombination-dependent replication fork processing'}, 'GO:1990918': {'double-strand break repair involved in meiotic recombination'}, 'GO:2000001': {'regulation of DNA damage checkpoint'}}, 'molecular_function': {'GO:0000150': {'DNA strand exchange activity'}, 'GO:0003677': {'DNA binding'}, 'GO:0003682': {'chromatin binding'}, 'GO:0003690': {'double-stranded DNA binding'}, 'GO:0003697': {'single-stranded DNA binding'}, 'GO:0005515': {'protein binding'}, 'GO:0005524': {'ATP binding'}, 'GO:0008094': {'ATP-dependent activity, acting on DNA'}, 'GO:0016887': {'ATP hydrolysis activity'}, 'GO:0017116': {'single-stranded DNA helicase activity'}, 'GO:0019899': {'enzyme binding'}, 'GO:0042802': {'identical protein binding'}, 'GO:0070182': {'DNA polymerase binding'}, 'GO:0140664': {'ATP-dependent DNA damage sensor activity'}}, 'cellular_component': {'GO:0000794': {'condensed nuclear chromosome'}, 'GO:0035861': {'site of double-strand break'}, 'GO:0099182': {'presynaptic intermediate filament cytoskeleton'}, 'GO:0000228': {'nuclear chromosome'}, 'GO:0000781': {'chromosome, telomeric region'}, 'GO:0000785': {'chromatin'}, 'GO:0000793': {'condensed chromosome'}, 'GO:0000800': {'lateral element'}, 'GO:0001673': {'male germ cell nucleus'}, 'GO:0005634': {'nucleus'}}}}\n",
    "bloop = test[\"GO\"][\"biological_process\"]\n",
    "for key in bloop :\n",
    "    print(key, bloop[key])"
   ]
  },
  {
   "cell_type": "code",
   "execution_count": 4,
   "metadata": {},
   "outputs": [
    {
     "name": "stdout",
     "output_type": "stream",
     "text": [
      "a  :  oui\n",
      "b  :  non\n"
     ]
    }
   ],
   "source": [
    "other = {\"a\" : \"oui\", \"b\" : \"non\"}\n",
    "for key, value in other.items() :\n",
    "    print(key, \" : \",value)"
   ]
  }
 ],
 "metadata": {
  "kernelspec": {
   "display_name": "abso",
   "language": "python",
   "name": "python3"
  },
  "language_info": {
   "codemirror_mode": {
    "name": "ipython",
    "version": 3
   },
   "file_extension": ".py",
   "mimetype": "text/x-python",
   "name": "python",
   "nbconvert_exporter": "python",
   "pygments_lexer": "ipython3",
   "version": "3.12.8"
  }
 },
 "nbformat": 4,
 "nbformat_minor": 2
}
